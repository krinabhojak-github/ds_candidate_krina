https://github.com/krinabhojak-github/ds_candidate_krina/blob/85c21b784fa7a4096e02084ad8007aec0800a0d8/ds_krina/notebook_1.ipynb
from google.colab import drive
drive.mount('/content/drive')

import seaborn as sns
import matplotlib.pyplot as plt
from scipy.stats import ttest_ind
import os
from google.colab import files, drive

# Create directories for storing outputs and CSV files
!mkdir -p outputs csv_files

print("Please upload the datasets: historical_trader_data.xlsx and fear_greed_index.xlsx")
uploaded = files.upload()
sentiment_df = pd.read_excel('fear_greed_index.xlsx')
trader_df = pd.read_excel('historical_data.xlsx')

# Convert date columns to datetime
sentiment_df['date'] = pd.to_datetime(sentiment_df['date'])
trader_df['Timestamp IST'] = pd.to_datetime(trader_df['Timestamp IST'])

# Drop missing values
sentiment_df = sentiment_df.dropna()
trader_df = trader_df.dropna(subset=['Closed PnL', 'Size Tokens', 'Crossed'])

# Convert columns to numeric
trader_df['Closed PnL'] = pd.to_numeric(trader_df['Closed PnL'], errors='coerce')
trader_df['Size Tokens'] = pd.to_numeric(trader_df['Size Tokens'], errors='coerce')

# Save cleaned datasets
sentiment_df.to_csv('csv_files/cleaned_sentiment.csv', index=False)
trader_df.to_csv('csv_files/cleaned_trader_data.csv', index=False)

print("Sentiment Dataset Summary:")
print(sentiment_df.describe())
print("\nTrader Dataset Summary:")
print(trader_df.describe())

plt.figure(figsize=(10, 6))
sns.lineplot(x='date', y='classification', data=sentiment_df)
plt.title('Market Sentiment (Fear/Greed) Over Time')
plt.savefig('outputs/sentiment_trend.png')
plt.show()

# Daily average profitability
trader_daily = trader_df.groupby(trader_df['Timestamp IST'].dt.date).agg({
    'Closed PnL': 'mean',
    'Size Tokens': 'sum'
}).reset_index()
trader_daily['Timestamp IST'] = pd.to_datetime(trader_daily['Timestamp IST'])

plt.figure(figsize=(10, 6))
sns.lineplot(x='Timestamp IST', y='Closed PnL', data=trader_daily)
plt.title('Average Daily Profitability (closedPnL)')
plt.savefig('outputs/profit_trend.png')
plt.show()

# Merge Datasets
merged_df = pd.merge(trader_daily, sentiment_df, left_on='Timestamp IST', right_on='date', how='inner')

# Analyze Trader Behavior vs. Sentiment
# Profitability by sentiment
print("\nAverage Profitability by Sentiment:")
print(merged_df.groupby('classification')['Closed PnL'].mean())

plt.figure(figsize=(10, 6))
sns.boxplot(x='classification', y='Closed PnL', data=merged_df)
plt.title('Profitability by Market Sentiment')
plt.savefig('outputs/profit_by_sentiment.png')
plt.show()

plt.figure(figsize=(10, 6))
sns.boxplot(x='classification', y='Size Tokens', data=merged_df)
plt.title('Trade Volume (Size) by Market Sentiment')
plt.savefig('outputs/volume_by_sentiment.png')
plt.show()

# Statistical test: Profitability in Fear vs. Greed
fear_profits = merged_df[merged_df['classification'] == 'Fear']['Closed PnL'].dropna()
greed_profits = merged_df[merged_df['classification'] == 'Greed']['Closed PnL'].dropna()

# Check if there are enough samples in both groups before performing t-test
if len(fear_profits) > 1 and len(greed_profits) > 1:
    t_stat, p_value = ttest_ind(fear_profits, greed_profits, equal_var=False)
    print(f"\nT-test (Profitability in Fear vs. Greed): t={t_stat:.2f}, p={p_value:.4f}")
else:
    print("\nNot enough data in both Fear and Greed categories to perform t-test.")

# Download Outputs for Submission
# Download csv_files and outputs
!zip -r outputs.zip outputs
!zip -r csv_files.zip csv_files
files.download('outputs.zip')
files.download('csv_files.zip')

import pandas as pd
sentiment_df = pd.read_csv('/content/drive/MyDrive/fear_greed_index.csv')
trader_df = pd.read_csv('/content/drive/MyDrive/historical_data.csv')
print(sentiment_df.head())
print(trader_df.head())
